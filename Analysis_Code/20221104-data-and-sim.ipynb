{
 "cells": [
  {
   "cell_type": "code",
   "execution_count": null,
   "id": "-q4lRIXdQRHO",
   "metadata": {
    "id": "-q4lRIXdQRHO"
   },
   "outputs": [],
   "source": []
  },
  {
   "cell_type": "code",
   "execution_count": 19,
   "id": "c8d0cadb-7d54-40c5-b19c-b45ea2ff246f",
   "metadata": {
    "id": "c8d0cadb-7d54-40c5-b19c-b45ea2ff246f"
   },
   "outputs": [],
   "source": [
    "import numpy as np\n",
    "import pandas as pd\n",
    "from glob import glob\n",
    "import json\n",
    "import re\n",
    "import matplotlib.pyplot as plt"
   ]
  },
  {
   "cell_type": "code",
   "execution_count": 20,
   "id": "10fbd031-80cb-4641-b48e-a64f41e32927",
   "metadata": {
    "id": "10fbd031-80cb-4641-b48e-a64f41e32927"
   },
   "outputs": [],
   "source": [
    "P={\n",
    "  \"A1\": [[1,0],\n",
    "        [0,1]],\n",
    "  \"B1\": [[-0.559,0.03],\n",
    "        [0.852,0.912]],\n",
    "  \"D1\": [[-0.548,0.281],\n",
    "        [0.281,0.348]],\n",
    "  \"X1\": [-0.289,-0.471],\n",
    "  \"Y1\": [0.396,2.631],\n",
    "  \"A2\": [[1,0],\n",
    "        [0,1]],\n",
    "  \"B2\": [[1.048,0.156],\n",
    "        [-1.337,-1.145]],\n",
    "  \"D2\": [[-0.333,0.051],\n",
    "        [0.051,1.08]],\n",
    "  \"X2\": [0.461,-0.791],\n",
    "  \"Y2\": [1.201,0.149],\n",
    "}\n",
    "    \n",
    "A1 = P['A1']\n",
    "B1 = P['B1']\n",
    "D1 = P['D1']\n",
    "X1 = P['X1']\n",
    "Y1 = P['Y1']\n",
    "\n",
    "A2 = P['A2']\n",
    "B2 = P['B2']\n",
    "D2 = P['D2']\n",
    "X2 = P['X2']\n",
    "Y2 = P['Y2']\n",
    "\n",
    "def f1(x,y):\n",
    "    return (1/2)*(x-X1).T @ A1 @ (x-X1) \\\n",
    "               + (x-X1).T @ B1 @ (y-Y1) \\\n",
    "         + (1/2)*(y-Y1).T @ D1 @ (y-Y1)\n",
    "\n",
    "\n",
    "def f2(x,y):\n",
    "    return (1/2)*(y-Y2).T @ A2 @ (y-Y2) \\\n",
    "               + (y-Y2).T @ B2 @ (x-X2) \\\n",
    "         + (1/2)*(x-X2).T @ D2 @ (x-X2)\n",
    "\n",
    "def g1(x,y):\n",
    "    return A1 @ (x-X1) + B1 @ (y-Y1)  # =0\n",
    "\n",
    "def g12(x,y):\n",
    "    return np.transpose(B1) @ (x-X1) + D1 @ (y-Y1) \n",
    "\n",
    "def g2(x,y):\n",
    "    return A2 @ (y-Y2) + B2 @ (x-X2)  # =0\n"
   ]
  },
  {
   "cell_type": "code",
   "execution_count": 21,
   "id": "dfba5099-6688-4f91-b70c-145b83a16e7d",
   "metadata": {
    "id": "dfba5099-6688-4f91-b70c-145b83a16e7d"
   },
   "outputs": [],
   "source": [
    "# theoretical prediction for lr=0 case\n",
    "lr1 = 0.1\n",
    "lr2 = 0.1\n",
    "T = 1000\n",
    "x = np.zeros((T,2))\n",
    "y = np.zeros((T,2))\n",
    "for t in range(T-1):\n",
    "    x[t+1] = x[t]-lr1*g1(x[t],y[t])\n",
    "    y[t+1] = y[t]-lr2*g2(x[t],y[t])\n",
    "x_nash = x[-1]\n",
    "y_nash = y[-1]"
   ]
  },
  {
   "cell_type": "code",
   "execution_count": 22,
   "id": "873dc106-bc66-418e-a209-c780577ad6c5",
   "metadata": {
    "id": "873dc106-bc66-418e-a209-c780577ad6c5"
   },
   "outputs": [],
   "source": [
    "# theoretical prediction for lr=infinity (lr=-1) case\n",
    "lr1 = 0.1\n",
    "lr2 = 0.1\n",
    "dx = 0.1\n",
    "T = 1000\n",
    "K = 100\n",
    "x = np.zeros((T,2))\n",
    "y = np.zeros((T,2))\n",
    "for t in range(T-1):\n",
    "    dx = np.random.randn(2)\n",
    "    dx /= np.sqrt(sum(dx**2))\n",
    "    dx *= 0.1\n",
    "    \n",
    "    yp = y[t]\n",
    "    for k in range(K):\n",
    "        yp = yp-lr2*g2(x[t]+dx, yp)\n",
    "        \n",
    "    yn = y[t]\n",
    "    for k in range(K):\n",
    "        yn = yn-lr2*g2(x[t]-dx, yn)\n",
    "        \n",
    "    grad = dx*(f1(x[t]+dx,yp) - f1(x[t]-dx,yn))/0.1\n",
    "    \n",
    "    x[t+1] = x[t]-lr1*grad # NOT g1\n",
    "    \n",
    "    y[t+1] = y[t]-lr2*g2(x[t],y[t])\n",
    "    \n",
    "x_stack = x[-1]\n",
    "y_stack = y[-1]"
   ]
  },
  {
   "cell_type": "code",
   "execution_count": 23,
   "id": "c414ae74-a741-4fc6-9216-84fcdbbf24ee",
   "metadata": {
    "id": "c414ae74-a741-4fc6-9216-84fcdbbf24ee"
   },
   "outputs": [],
   "source": [
    "directories = [\"data_wqr\", \"data_ckx\"]\n",
    "dir =  \"data\\data_wqr\" # CHANGE THE DIRECTORY NAME HERE\n",
    "FILES = glob(dir + '\\\\data-*.json')"
   ]
  },
  {
   "cell_type": "code",
   "execution_count": 24,
   "id": "3c29277e-3779-4c95-bb9f-e0282939b222",
   "metadata": {
    "id": "3c29277e-3779-4c95-bb9f-e0282939b222",
    "outputId": "f61e80ce-65f5-45af-f9a9-7b25bb480fc6"
   },
   "outputs": [
    {
     "data": {
      "text/html": [
       "<div>\n",
       "<style scoped>\n",
       "    .dataframe tbody tr th:only-of-type {\n",
       "        vertical-align: middle;\n",
       "    }\n",
       "\n",
       "    .dataframe tbody tr th {\n",
       "        vertical-align: top;\n",
       "    }\n",
       "\n",
       "    .dataframe thead th {\n",
       "        text-align: right;\n",
       "    }\n",
       "</style>\n",
       "<table border=\"1\" class=\"dataframe\">\n",
       "  <thead>\n",
       "    <tr style=\"text-align: right;\">\n",
       "      <th></th>\n",
       "      <th>lr</th>\n",
       "      <th>t</th>\n",
       "      <th>x1</th>\n",
       "      <th>x2</th>\n",
       "      <th>y1</th>\n",
       "      <th>y2</th>\n",
       "      <th>f1</th>\n",
       "    </tr>\n",
       "    <tr>\n",
       "      <th>trial</th>\n",
       "      <th></th>\n",
       "      <th></th>\n",
       "      <th></th>\n",
       "      <th></th>\n",
       "      <th></th>\n",
       "      <th></th>\n",
       "      <th></th>\n",
       "    </tr>\n",
       "  </thead>\n",
       "  <tbody>\n",
       "  </tbody>\n",
       "</table>\n",
       "</div>"
      ],
      "text/plain": [
       "Empty DataFrame\n",
       "Columns: [lr, t, x1, x2, y1, y2, f1]\n",
       "Index: []"
      ]
     },
     "execution_count": 24,
     "metadata": {},
     "output_type": "execute_result"
    }
   ],
   "source": [
    "data_dict  = dict(trial=[],  lr=[],  t=[],  x1=[],  x2=[],  y1=[],  y2=[], f1=[])\n",
    "for file in FILES:\n",
    "    with open(file) as f:\n",
    "        result = re.search(r\".*\\\\data-([-]*[.\\d]*[\\d]*)-\", file)\n",
    "        lr = result.groups(1)[0]\n",
    "        data = json.load(f)\n",
    "        L = len(data[1:])\n",
    "        for i,var in enumerate(data[0]):\n",
    "            data_np = np.array(data[1:])\n",
    "            data_dict[var] += list(data_np[:,i])\n",
    "        data_dict['trial'] += [file]*L\n",
    "        data_dict['lr'] += [float(lr)]*L\n",
    "        \n",
    "df = pd.DataFrame(data_dict)\n",
    "# df=df[df.t>40*25]\n",
    "df.groupby('trial').median()"
   ]
  },
  {
   "cell_type": "code",
   "execution_count": 17,
   "id": "bebd463a",
   "metadata": {
    "id": "bebd463a"
   },
   "outputs": [],
   "source": [
    "# df.groupby('trial').get_group('data2\\data-0.003--11.json').hist('x2')"
   ]
  },
  {
   "cell_type": "code",
   "execution_count": 18,
   "id": "e4d63412",
   "metadata": {
    "id": "e4d63412",
    "outputId": "4016628c-806d-4a16-b288-899f8be15285"
   },
   "outputs": [
    {
     "data": {
      "text/plain": [
       "<AxesSubplot:xlabel='lr', ylabel='x1'>"
      ]
     },
     "execution_count": 18,
     "metadata": {},
     "output_type": "execute_result"
    },
    {
     "data": {
      "image/png": "[encoded data removed]",
      "text/plain": [
       "<Figure size 640x480 with 1 Axes>"
      ]
     },
     "metadata": {},
     "output_type": "display_data"
    }
   ],
   "source": [
    "df.groupby('trial').median().plot.scatter('lr', 'x1')"
   ]
  },
  {
   "cell_type": "code",
   "execution_count": 9,
   "id": "a02ef4b4",
   "metadata": {
    "id": "a02ef4b4",
    "outputId": "a87d5b17-5779-49d4-e37f-97b6d2c65108"
   },
   "outputs": [
    {
     "data": {
      "text/plain": [
       "<AxesSubplot:xlabel='lr', ylabel='x2'>"
      ]
     },
     "execution_count": 9,
     "metadata": {},
     "output_type": "execute_result"
    },
    {
     "data": {
      "image/png": "[encoded data removed]",
      "text/plain": [
       "<Figure size 640x480 with 1 Axes>"
      ]
     },
     "metadata": {},
     "output_type": "display_data"
    }
   ],
   "source": [
    "df.groupby('trial').median().plot.scatter('lr', 'x2')"
   ]
  },
  {
   "cell_type": "code",
   "execution_count": 10,
   "id": "b95874b0",
   "metadata": {
    "id": "b95874b0",
    "outputId": "1625e1ef-f462-4455-b717-a5a013fcc44c"
   },
   "outputs": [
    {
     "data": {
      "text/plain": [
       "(0, 0.0, nan)"
      ]
     },
     "execution_count": 10,
     "metadata": {},
     "output_type": "execute_result"
    }
   ],
   "source": [
    "# why different number of data points\n",
    "# data 1 has twice the data points but half the total sum -- wrong\n",
    "# data 1 relatively better than data 2\n",
    "df.f1.count(), df.f1.sum(), df.f1.mean()\n",
    "# run this cell alone gives different results. how does jupiter notebook work?\n",
    "# something changes the df below"
   ]
  },
  {
   "cell_type": "code",
   "execution_count": 11,
   "id": "5f7e531b",
   "metadata": {
    "id": "5f7e531b",
    "outputId": "9d671907-d4df-4f8c-f862-4d98ad5ed39a"
   },
   "outputs": [
    {
     "data": {
      "text/plain": [
       "(array([0.24530231, 0.23872283]), array([-0.49569948,  0.19613466]))"
      ]
     },
     "execution_count": 11,
     "metadata": {},
     "output_type": "execute_result"
    }
   ],
   "source": [
    "x_nash, x_stack"
   ]
  },
  {
   "cell_type": "code",
   "execution_count": 12,
   "id": "4a8d1bb5-18e2-4f02-a72f-cf8138b36cd7",
   "metadata": {
    "id": "4a8d1bb5-18e2-4f02-a72f-cf8138b36cd7",
    "outputId": "34518d97-7d98-4e33-c6fe-e413824e8f39"
   },
   "outputs": [
    {
     "ename": "KeyError",
     "evalue": "'datadata-0.03-1-1.json'",
     "output_type": "error",
     "traceback": [
      "\u001b[0;31m---------------------------------------------------------------------------\u001b[0m",
      "\u001b[0;31mKeyError\u001b[0m                                  Traceback (most recent call last)",
      "\u001b[0;32m/var/folders/g9/mx1mjly15jn7qml07_ffbg440000gn/T/ipykernel_28364/1055679292.py\u001b[0m in \u001b[0;36m<module>\u001b[0;34m\u001b[0m\n\u001b[0;32m----> 1\u001b[0;31m \u001b[0mx1\u001b[0m \u001b[0;34m=\u001b[0m \u001b[0mdf\u001b[0m\u001b[0;34m.\u001b[0m\u001b[0mgroupby\u001b[0m\u001b[0;34m(\u001b[0m\u001b[0;34m'trial'\u001b[0m\u001b[0;34m)\u001b[0m\u001b[0;34m.\u001b[0m\u001b[0mget_group\u001b[0m\u001b[0;34m(\u001b[0m\u001b[0mdir\u001b[0m \u001b[0;34m+\u001b[0m \u001b[0;34m'data-0.03-1-1.json'\u001b[0m\u001b[0;34m)\u001b[0m\u001b[0;34m.\u001b[0m\u001b[0mx1\u001b[0m\u001b[0;34m\u001b[0m\u001b[0;34m\u001b[0m\u001b[0m\n\u001b[0m\u001b[1;32m      2\u001b[0m \u001b[0mx2\u001b[0m \u001b[0;34m=\u001b[0m \u001b[0mdf\u001b[0m\u001b[0;34m.\u001b[0m\u001b[0mgroupby\u001b[0m\u001b[0;34m(\u001b[0m\u001b[0;34m'trial'\u001b[0m\u001b[0;34m)\u001b[0m\u001b[0;34m.\u001b[0m\u001b[0mget_group\u001b[0m\u001b[0;34m(\u001b[0m\u001b[0mdir\u001b[0m \u001b[0;34m+\u001b[0m \u001b[0;34m'data-0.03-1-1.json'\u001b[0m\u001b[0;34m)\u001b[0m\u001b[0;34m.\u001b[0m\u001b[0mx2\u001b[0m\u001b[0;34m\u001b[0m\u001b[0;34m\u001b[0m\u001b[0m\n\u001b[1;32m      3\u001b[0m \u001b[0mplt\u001b[0m\u001b[0;34m.\u001b[0m\u001b[0mplot\u001b[0m\u001b[0;34m(\u001b[0m\u001b[0mx1\u001b[0m\u001b[0;34m,\u001b[0m\u001b[0mx2\u001b[0m\u001b[0;34m)\u001b[0m\u001b[0;34m\u001b[0m\u001b[0;34m\u001b[0m\u001b[0m\n\u001b[1;32m      4\u001b[0m \u001b[0mplt\u001b[0m\u001b[0;34m.\u001b[0m\u001b[0mplot\u001b[0m\u001b[0;34m(\u001b[0m\u001b[0mnp\u001b[0m\u001b[0;34m.\u001b[0m\u001b[0mmedian\u001b[0m\u001b[0;34m(\u001b[0m\u001b[0mx1\u001b[0m\u001b[0;34m)\u001b[0m\u001b[0;34m,\u001b[0m\u001b[0mnp\u001b[0m\u001b[0;34m.\u001b[0m\u001b[0mmedian\u001b[0m\u001b[0;34m(\u001b[0m\u001b[0mx2\u001b[0m\u001b[0;34m)\u001b[0m\u001b[0;34m,\u001b[0m\u001b[0;34m'o'\u001b[0m\u001b[0;34m)\u001b[0m\u001b[0;34m\u001b[0m\u001b[0;34m\u001b[0m\u001b[0m\n\u001b[1;32m      5\u001b[0m \u001b[0mplt\u001b[0m\u001b[0;34m.\u001b[0m\u001b[0mxlim\u001b[0m\u001b[0;34m(\u001b[0m\u001b[0;34m[\u001b[0m\u001b[0;34m-\u001b[0m\u001b[0;36m1\u001b[0m\u001b[0;34m,\u001b[0m\u001b[0;36m1\u001b[0m\u001b[0;34m]\u001b[0m\u001b[0;34m)\u001b[0m\u001b[0;34m\u001b[0m\u001b[0;34m\u001b[0m\u001b[0m\n",
      "\u001b[0;32m~/opt/anaconda3/lib/python3.8/site-packages/pandas/core/groupby/groupby.py\u001b[0m in \u001b[0;36mget_group\u001b[0;34m(self, name, obj)\u001b[0m\n\u001b[1;32m    745\u001b[0m         \u001b[0minds\u001b[0m \u001b[0;34m=\u001b[0m \u001b[0mself\u001b[0m\u001b[0;34m.\u001b[0m\u001b[0m_get_index\u001b[0m\u001b[0;34m(\u001b[0m\u001b[0mname\u001b[0m\u001b[0;34m)\u001b[0m\u001b[0;34m\u001b[0m\u001b[0;34m\u001b[0m\u001b[0m\n\u001b[1;32m    746\u001b[0m         \u001b[0;32mif\u001b[0m \u001b[0;32mnot\u001b[0m \u001b[0mlen\u001b[0m\u001b[0;34m(\u001b[0m\u001b[0minds\u001b[0m\u001b[0;34m)\u001b[0m\u001b[0;34m:\u001b[0m\u001b[0;34m\u001b[0m\u001b[0;34m\u001b[0m\u001b[0m\n\u001b[0;32m--> 747\u001b[0;31m             \u001b[0;32mraise\u001b[0m \u001b[0mKeyError\u001b[0m\u001b[0;34m(\u001b[0m\u001b[0mname\u001b[0m\u001b[0;34m)\u001b[0m\u001b[0;34m\u001b[0m\u001b[0;34m\u001b[0m\u001b[0m\n\u001b[0m\u001b[1;32m    748\u001b[0m \u001b[0;34m\u001b[0m\u001b[0m\n\u001b[1;32m    749\u001b[0m         \u001b[0;32mreturn\u001b[0m \u001b[0mobj\u001b[0m\u001b[0;34m.\u001b[0m\u001b[0m_take_with_is_copy\u001b[0m\u001b[0;34m(\u001b[0m\u001b[0minds\u001b[0m\u001b[0;34m,\u001b[0m \u001b[0maxis\u001b[0m\u001b[0;34m=\u001b[0m\u001b[0mself\u001b[0m\u001b[0;34m.\u001b[0m\u001b[0maxis\u001b[0m\u001b[0;34m)\u001b[0m\u001b[0;34m\u001b[0m\u001b[0;34m\u001b[0m\u001b[0m\n",
      "\u001b[0;31mKeyError\u001b[0m: 'datadata-0.03-1-1.json'"
     ]
    }
   ],
   "source": [
    "x1 = df.groupby('trial').get_group(dir + 'data-0.03-1-1.json').x1\n",
    "x2 = df.groupby('trial').get_group(dir + 'data-0.03-1-1.json').x2\n",
    "plt.plot(x1,x2)\n",
    "plt.plot(np.median(x1),np.median(x2),'o')\n",
    "plt.xlim([-1,1])\n",
    "plt.ylim([-1,1])\n",
    "plt.savefig(\"img/\" + dir + \"-cursor\")"
   ]
  },
  {
   "cell_type": "code",
   "execution_count": 13,
   "id": "43b01f1e-37e4-43cc-be22-6d7adfd7c062",
   "metadata": {
    "id": "43b01f1e-37e4-43cc-be22-6d7adfd7c062",
    "outputId": "91f609c7-1af0-429c-d7a1-0490202dce87"
   },
   "outputs": [
    {
     "data": {
      "text/plain": [
       "(-1.0, 1.0)"
      ]
     },
     "execution_count": 13,
     "metadata": {},
     "output_type": "execute_result"
    },
    {
     "data": {
      "image/png": "[encoded data removed]",
      "text/plain": [
       "<Figure size 640x480 with 1 Axes>"
      ]
     },
     "metadata": {},
     "output_type": "display_data"
    }
   ],
   "source": [
    "plt.plot(x[:,0],x[:,1])\n",
    "plt.plot(x[-1,0],x[-1,1],'o')\n",
    "plt.xlim([-1,1])\n",
    "plt.ylim([-1,1])"
   ]
  },
  {
   "cell_type": "code",
   "execution_count": null,
   "id": "cdfd4200-c7f6-4902-b001-1a8e6c830778",
   "metadata": {
    "id": "cdfd4200-c7f6-4902-b001-1a8e6c830778",
    "outputId": "32023ae0-765a-47bb-8067-76069e7be994"
   },
   "outputs": [
    {
     "data": {
      "image/png": "[encoded data removed]",
      "text/plain": [
       "<Figure size 432x288 with 1 Axes>"
      ]
     },
     "metadata": {
      "needs_background": "light"
     },
     "output_type": "display_data"
    }
   ],
   "source": [
    "\n",
    "plt.hist(df.groupby('lr').get_group(0).x1,bins=32,alpha=0.2)\n",
    "plt.hist(df.groupby('lr').get_group(0.003).x1,bins=32,alpha=0.2)\n",
    "plt.hist(df.groupby('lr').get_group(0.03).x1,bins=32,alpha=0.2)\n",
    "plt.hist(df.groupby('lr').get_group(0.3).x1,bins=32,alpha=0.2)\n",
    "plt.hist(df.groupby('lr').get_group(-1).x1,bins=32,alpha=0.2)\n",
    "plt.gca().axvline(x_nash[0],ls='--')\n",
    "plt.gca().axvline(x_stack[0],ls='--',color='r')\n",
    "# why nash and stack stays the same in data 1 and data 2 xxx\n",
    "# why nash and stack have different x values? is nash wrong?\n",
    "plt.savefig(\"img/data3-x1\")\n",
    "pass"
   ]
  },
  {
   "cell_type": "code",
   "execution_count": null,
   "id": "fb47b10e-3295-4808-8e6b-4477ec4f525a",
   "metadata": {
    "id": "fb47b10e-3295-4808-8e6b-4477ec4f525a",
    "outputId": "d3cccc9c-468b-4295-88ff-a6d6e149e855"
   },
   "outputs": [
    {
     "data": {
      "image/png": "[encoded data removed]",
      "text/plain": [
       "<Figure size 432x288 with 1 Axes>"
      ]
     },
     "metadata": {
      "needs_background": "light"
     },
     "output_type": "display_data"
    }
   ],
   "source": [
    "\n",
    "plt.hist(df.groupby('lr').get_group(0).x2,bins=32,alpha=0.5)\n",
    "plt.hist(df.groupby('lr').get_group(0.003).x2,bins=32,alpha=0.2)\n",
    "plt.hist(df.groupby('lr').get_group(0.03).x2,bins=32,alpha=0.2)\n",
    "plt.hist(df.groupby('lr').get_group(0.3).x2,bins=32,alpha=0.2)\n",
    "plt.hist(df.groupby('lr').get_group(-1).x2,bins=32,alpha=0.5)\n",
    "plt.gca().axvline(x_stack[1],ls='--',color='r')\n",
    "plt.gca().axvline(x_nash[1],ls='--')\n",
    "plt.savefig(\"img/data3-x2\")\n",
    "pass"
   ]
  },
  {
   "cell_type": "code",
   "execution_count": null,
   "id": "33b9924b-240c-42c4-9395-385227450609",
   "metadata": {
    "id": "33b9924b-240c-42c4-9395-385227450609",
    "outputId": "4c2fd752-c3c8-4c7b-c6c1-0a198d83b4bf"
   },
   "outputs": [
    {
     "data": {
      "image/png": "[encoded data removed]",
      "text/plain": [
       "<Figure size 432x288 with 1 Axes>"
      ]
     },
     "metadata": {
      "needs_background": "light"
     },
     "output_type": "display_data"
    },
    {
     "data": {
      "image/png": "[encoded data removed]",
      "text/plain": [
       "<Figure size 432x288 with 1 Axes>"
      ]
     },
     "metadata": {
      "needs_background": "light"
     },
     "output_type": "display_data"
    },
    {
     "data": {
      "image/png": "[encoded data removed]",
      "text/plain": [
       "<Figure size 432x288 with 1 Axes>"
      ]
     },
     "metadata": {
      "needs_background": "light"
     },
     "output_type": "display_data"
    },
    {
     "data": {
      "image/png": "[encoded data removed]",
      "text/plain": [
       "<Figure size 432x288 with 1 Axes>"
      ]
     },
     "metadata": {
      "needs_background": "light"
     },
     "output_type": "display_data"
    },
    {
     "data": {
      "image/png": "[encoded data removed]",
      "text/plain": [
       "<Figure size 432x288 with 1 Axes>"
      ]
     },
     "metadata": {
      "needs_background": "light"
     },
     "output_type": "display_data"
    }
   ],
   "source": [
    "for lr in df.lr.unique():\n",
    "    plt.figure()\n",
    "    plt.hist(df.groupby('lr').get_group(lr).x1,bins=32,alpha=0.5)\n",
    "    plt.gca().axvline(x_nash[0],ls='--')\n",
    "    plt.gca().axvline(x_stack[0],ls='--',color='r')\n",
    "    plt.title(lr)"
   ]
  },
  {
   "cell_type": "code",
   "execution_count": null,
   "id": "4564a2b0-896f-4902-b7bb-1dcc76c382b0",
   "metadata": {
    "id": "4564a2b0-896f-4902-b7bb-1dcc76c382b0",
    "outputId": "4d011e74-d8cc-417f-c40a-d5a43de8fa06"
   },
   "outputs": [
    {
     "data": {
      "text/plain": [
       "<matplotlib.lines.Line2D at 0x24e4976ea90>"
      ]
     },
     "execution_count": 103,
     "metadata": {},
     "output_type": "execute_result"
    },
    {
     "data": {
      "image/png": "[encoded data removed]",
      "text/plain": [
       "<Figure size 432x288 with 1 Axes>"
      ]
     },
     "metadata": {
      "needs_background": "light"
     },
     "output_type": "display_data"
    }
   ],
   "source": [
    "plt.hist(df.groupby('lr').get_group(0).y2,bins=32,alpha=0.5)\n",
    "plt.gca().axvline(y_nash[1],ls='--') # \n",
    "plt.gca().axvline(y_stack[1],ls='--',color='r') # one first one follows"
   ]
  },
  {
   "cell_type": "code",
   "execution_count": null,
   "id": "20fb8f4c-42d7-4524-b6a9-94b45e1b79a0",
   "metadata": {
    "id": "20fb8f4c-42d7-4524-b6a9-94b45e1b79a0",
    "outputId": "bd140b3b-7a9a-4467-d9ea-0014077b2729"
   },
   "outputs": [
    {
     "data": {
      "text/plain": [
       "(array([0.24530231, 0.23872283]), array([1.26641441, 1.03964483]))"
      ]
     },
     "execution_count": 104,
     "metadata": {},
     "output_type": "execute_result"
    }
   ],
   "source": [
    "x_nash,y_nash"
   ]
  },
  {
   "cell_type": "code",
   "execution_count": null,
   "id": "d8ff3c12-cbab-4af4-9578-28a3c6de25ee",
   "metadata": {
    "id": "d8ff3c12-cbab-4af4-9578-28a3c6de25ee",
    "outputId": "731b01ab-2e74-4424-b36b-c3d80eab909b"
   },
   "outputs": [
    {
     "data": {
      "text/plain": [
       "(array([-0.49569932,  0.19613465]), array([2.04962776e+00, 1.62300248e-04]))"
      ]
     },
     "execution_count": 105,
     "metadata": {},
     "output_type": "execute_result"
    }
   ],
   "source": [
    "x_stack,y_stack"
   ]
  },
  {
   "cell_type": "code",
   "execution_count": null,
   "id": "b73284cd-f854-4b1a-a8cf-1b8be7273b73",
   "metadata": {
    "id": "b73284cd-f854-4b1a-a8cf-1b8be7273b73"
   },
   "outputs": [],
   "source": [
    "#Nash conditions"
   ]
  },
  {
   "cell_type": "code",
   "execution_count": null,
   "id": "ba471ae5-378d-4f6b-add6-b986f7df0775",
   "metadata": {
    "id": "ba471ae5-378d-4f6b-add6-b986f7df0775",
    "outputId": "abadbc33-d6f0-4a93-861b-515746e9da44"
   },
   "outputs": [
    {
     "data": {
      "text/plain": [
       "array([0.00000000e+00, 1.11022302e-16])"
      ]
     },
     "execution_count": 107,
     "metadata": {},
     "output_type": "execute_result"
    }
   ],
   "source": [
    "g1(x_nash, y_nash)"
   ]
  },
  {
   "cell_type": "code",
   "execution_count": null,
   "id": "02eb09b9-0cdd-404e-99c7-401d86727a01",
   "metadata": {
    "id": "02eb09b9-0cdd-404e-99c7-401d86727a01",
    "outputId": "3a7b4705-ecbe-4c1b-d143-621e60160081"
   },
   "outputs": [
    {
     "data": {
      "text/plain": [
       "array([7.21644966e-16, 1.11022302e-16])"
      ]
     },
     "execution_count": 108,
     "metadata": {},
     "output_type": "execute_result"
    }
   ],
   "source": [
    "g2(x_nash, y_nash)"
   ]
  },
  {
   "cell_type": "code",
   "execution_count": null,
   "id": "a498dd23-4699-42e8-9df8-82fbe38ac631",
   "metadata": {
    "id": "a498dd23-4699-42e8-9df8-82fbe38ac631"
   },
   "outputs": [],
   "source": [
    "#Stackelberg conditions:"
   ]
  },
  {
   "cell_type": "code",
   "execution_count": null,
   "id": "9a74f601-f394-4e33-b2d6-817e5fa10225",
   "metadata": {
    "id": "9a74f601-f394-4e33-b2d6-817e5fa10225",
    "outputId": "b4afbbc3-40b9-4e85-cdb3-cc81819d816a"
   },
   "outputs": [
    {
     "data": {
      "text/plain": [
       "array([3.31326889e-05, 8.48528077e-06])"
      ]
     },
     "execution_count": 110,
     "metadata": {},
     "output_type": "execute_result"
    }
   ],
   "source": [
    "g1(x_stack,y_stack)-np.linalg.solve(A2,B2).T@g12(x_stack, y_stack)"
   ]
  },
  {
   "cell_type": "code",
   "execution_count": null,
   "id": "47eb7eb8-5fab-43d2-9f9b-e24636c478ec",
   "metadata": {
    "id": "47eb7eb8-5fab-43d2-9f9b-e24636c478ec",
    "outputId": "44b273d2-6171-4976-9bc3-e9af42a0fbe1"
   },
   "outputs": [
    {
     "data": {
      "text/plain": [
       "array([-1.19752775e-07,  1.20089209e-07])"
      ]
     },
     "execution_count": 111,
     "metadata": {},
     "output_type": "execute_result"
    }
   ],
   "source": [
    "g2(x_stack,y_stack)"
   ]
  },
  {
   "cell_type": "code",
   "execution_count": null,
   "id": "d3a69802-9460-4a8e-b1e8-420fa8ad1b5a",
   "metadata": {
    "id": "d3a69802-9460-4a8e-b1e8-420fa8ad1b5a",
    "outputId": "4101dd92-8a9b-46fa-f073-28f77536cb93"
   },
   "outputs": [
    {
     "data": {
      "text/plain": [
       "-0.5507653036665989"
      ]
     },
     "execution_count": 112,
     "metadata": {},
     "output_type": "execute_result"
    }
   ],
   "source": [
    "f1(x_nash, y_nash)"
   ]
  },
  {
   "cell_type": "code",
   "execution_count": null,
   "id": "998f2453-847a-4848-b17d-976da2bfc3d8",
   "metadata": {
    "id": "998f2453-847a-4848-b17d-976da2bfc3d8",
    "outputId": "f556290d-0947-4518-90e2-f7e54d579085"
   },
   "outputs": [
    {
     "data": {
      "text/plain": [
       "-0.9768847636887588"
      ]
     },
     "execution_count": 113,
     "metadata": {},
     "output_type": "execute_result"
    }
   ],
   "source": [
    "f1(x_stack, y_stack)"
   ]
  },
  {
   "cell_type": "code",
   "execution_count": null,
   "id": "67700638",
   "metadata": {
    "id": "67700638"
   },
   "outputs": [],
   "source": [
    "df=df[df.t>40*15]"
   ]
  }
 ],
 "metadata": {
  "colab": {
   "provenance": []
  },
  "kernelspec": {
   "display_name": "Python 3 (ipykernel)",
   "language": "python",
   "name": "python3"
  },
  "language_info": {
   "codemirror_mode": {
    "name": "ipython",
    "version": 3
   },
   "file_extension": ".py",
   "mimetype": "text/x-python",
   "name": "python",
   "nbconvert_exporter": "python",
   "pygments_lexer": "ipython3",
   "version": "3.8.5"
  },
  "vscode": {
   "interpreter": {
    "hash": "80200757b28e07ac018ce930a0f169720fa7f855c203d481fe7166057f872a45"
   }
  }
 },
 "nbformat": 4,
 "nbformat_minor": 5
}
